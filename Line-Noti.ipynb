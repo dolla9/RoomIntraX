{
 "cells": [
  {
   "cell_type": "code",
   "execution_count": 1,
   "metadata": {},
   "outputs": [
    {
     "name": "stdout",
     "output_type": "stream",
     "text": [
      "{\"status\":200,\"message\":\"ok\"}\n"
     ]
    }
   ],
   "source": [
    "import requests\n",
    "\n",
    "url = 'https://notify-api.line.me/api/notify'\n",
    "token = 'TUVIfnWavJSlEwFcsU9b7I2mfg4RHjc9422PYuZp9hC'\n",
    "headers = {'content-type':'application/x-www-form-urlencoded','Authorization':'Bearer '+token}\n",
    "\n",
    "msg = 'ส่งข้อความ LINE Notify'\n",
    "r = requests.post(url, headers=headers, data = {'message':msg})\n",
    "\n",
    "print(r.text)"
   ]
  },
  {
   "cell_type": "code",
   "execution_count": 12,
   "metadata": {},
   "outputs": [],
   "source": [
    "def notify_message(message):\n",
    "    payload = {'message':message}\n",
    "    return _line_notify(payload)\n",
    "\n",
    "def notify_file(filepath, description='Recieve file'):\n",
    "    file = {'imageFile':open(filepath, 'rb')}\n",
    "    payload = {'message':description}\n",
    "    return _line_notify(payload, file)\n",
    "\n",
    "def notify_picture(url, description='Recieve picture'):\n",
    "    payload = {'message':description, 'imageThumbnail':url, 'imageFullsize':url}\n",
    "    return _line_notify(payload)\n",
    "\n",
    "def notify_sticker(stickerID, stickerPackageID):\n",
    "    payload = {'message':\" \", 'stickerPackageId':stickerPackageID, 'stickerId':stickerID}\n",
    "    return _line_notify(payload)\n",
    "\n",
    "def _line_notify(payload, file=None):\n",
    "    import requests\n",
    "    url = 'https://notify-api.line.me/api/notify'\n",
    "    token = 'TUVIfnWavJSlEwFcsU9b7I2mfg4RHjc9422PYuZp9hC'\n",
    "    headers = {'Authorization':'Bearer '+token}\n",
    "    return requests.post(url, headers=headers , data=payload, files=file)\n",
    "\n",
    "notify_message('ทดสอบภาษาไทย hello')\n",
    "notify_sticker(40, 2)\n",
    "notify_picture(\"https://lh3.googleusercontent.com/l-ZZOFGyeKYz3stUbxTECHYnXcRD66C9g0tjiWA_okVIxZyb0E7_esU8LRpq_0LFCu8Y\")\n",
    "notify_file(\"C:/Users/dolla/RoomIntra/image.jpg\")"
   ]
  },
  {
   "cell_type": "code",
   "execution_count": null,
   "metadata": {},
   "outputs": [],
   "source": []
  }
 ],
 "metadata": {
  "kernelspec": {
   "display_name": "Python 3",
   "language": "python",
   "name": "python3"
  },
  "language_info": {
   "codemirror_mode": {
    "name": "ipython",
    "version": 3
   },
   "file_extension": ".py",
   "mimetype": "text/x-python",
   "name": "python",
   "nbconvert_exporter": "python",
   "pygments_lexer": "ipython3",
   "version": "3.6.8"
  }
 },
 "nbformat": 4,
 "nbformat_minor": 2
}
